# Demonstration of encoding/decoding using Dynamic Fractal Encoding.
